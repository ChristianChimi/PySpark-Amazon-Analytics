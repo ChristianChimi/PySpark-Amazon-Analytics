{
 "cells": [
  {
   "cell_type": "code",
   "execution_count": 7,
   "id": "db1eaff6",
   "metadata": {},
   "outputs": [],
   "source": [
    "from pyspark.sql import SparkSession\n",
    "from pyspark.sql.functions import col,avg, sum\n",
    "import seaborn as sns\n",
    "import matplotlib.pyplot as plt\n",
    "\n",
    "# Create a spark Session\n",
    "spark = SparkSession.builder \\\n",
    "    .appName(\"Amazon\") \\\n",
    "    .getOrCreate()\n",
    "\n",
    "csv_file_path = r\"Dataset\\Amazon.csv\"\n",
    "df = spark.read.csv(csv_file_path, header=\"true\", inferSchema=True)\n"
   ]
  },
  {
   "cell_type": "code",
   "execution_count": 13,
   "id": "5d42bd30",
   "metadata": {},
   "outputs": [
    {
     "name": "stdout",
     "output_type": "stream",
     "text": [
      "+-----+-------------------+--------+-------+----------+--------------+------------------+--------+-----------------+-------------+----+----------+--------------+---+--------+------+---------------+-------------+----------------+------------+-----+\n",
      "|index|           Order ID|    Date| Status|Fulfilment|Sales Channel |ship-service-level|   Style|              SKU|     Category|Size|      ASIN|Courier Status|Qty|currency|Amount|      ship-city|   ship-state|ship-postal-code|ship-country|  B2B|\n",
      "+-----+-------------------+--------+-------+----------+--------------+------------------+--------+-----------------+-------------+----+----------+--------------+---+--------+------+---------------+-------------+----------------+------------+-----+\n",
      "|    2|404-0687676-7273146|04-30-22|Shipped|    Amazon|     Amazon.in|         Expedited| JNE3371|    JNE3371-KR-XL|        kurta|  XL|B07WV4JV4D|       Shipped|  1|     INR| 329.0|    NAVI MUMBAI|  MAHARASHTRA|        410210.0|          IN| true|\n",
      "|    4|407-1069790-7240320|04-30-22|Shipped|    Amazon|     Amazon.in|         Expedited| JNE3671|  JNE3671-TU-XXXL|          Top| 3XL|B098714BZP|       Shipped|  1|     INR| 574.0|        CHENNAI|   TAMIL NADU|        600073.0|          IN|false|\n",
      "|    5|404-1490984-4578765|04-30-22|Shipped|    Amazon|     Amazon.in|         Expedited|  SET264|  SET264-KR-NP-XL|          Set|  XL|B08YN7XDSG|       Shipped|  1|     INR| 824.0|      GHAZIABAD|UTTAR PRADESH|        201102.0|          IN|false|\n",
      "|    6|408-5748499-6859555|04-30-22|Shipped|    Amazon|     Amazon.in|         Expedited|   J0095|      J0095-SET-L|          Set|   L|B08CMHNWBN|       Shipped|  1|     INR| 653.0|     CHANDIGARH|   CHANDIGARH|        160036.0|          IN|false|\n",
      "|    9|402-4393761-0311520|04-30-22|Shipped|    Amazon|     Amazon.in|         Expedited| JNE3461|   JNE3461-KR-XXL|        kurta| XXL|B08B3XF5MH|       Shipped|  1|     INR| 363.0|        Chennai|   TAMIL NADU|        600041.0|          IN|false|\n",
      "|   10|407-5633625-6970741|04-30-22|Shipped|    Amazon|     Amazon.in|         Expedited| JNE3160|   JNE3160-KR-G-S|        kurta|   S|B07K3YQLF1|       Shipped|  1|     INR| 685.0|        CHENNAI|   TAMIL NADU|        600073.0|          IN|false|\n",
      "|   11|171-4638481-6326716|04-30-22|Shipped|    Amazon|     Amazon.in|         Expedited| JNE3500|    JNE3500-KR-XS|        kurta|  XS|B098117DJ3|       Shipped|  1|     INR| 364.0|          NOIDA|UTTAR PRADESH|        201303.0|          IN|false|\n",
      "|   13|408-7955685-3083534|04-30-22|Shipped|    Amazon|     Amazon.in|         Expedited|  SET182|  SET182-KR-DH-XS|          Set|  XS|B085HS947T|       Shipped|  1|     INR| 657.0|         MUMBAI|  MAHARASHTRA|        400053.0|          IN|false|\n",
      "|   16|406-9379318-6555504|04-30-22|Shipped|    Amazon|     Amazon.in|         Expedited| JNE3721|   JNE3721-KR-XXL|        kurta| XXL|B099FCT65D|       Shipped|  1|     INR| 329.0|         JAIPUR|    RAJASTHAN|        302020.0|          IN|false|\n",
      "|   17|405-9013803-8009918|04-30-22|Shipped|    Amazon|     Amazon.in|         Expedited| JNE3405|    JNE3405-KR-XL|        kurta|  XL|B081WT6GG7|       Shipped|  1|     INR| 399.0|      NEW DELHI|        DELHI|        110074.0|          IN|false|\n",
      "|   19|405-5957858-1051546|04-30-22|Shipped|    Amazon|     Amazon.in|         Expedited|  SET254|  SET254-KR-NP-XS|          Set|  XS|B0983DDPL6|       Shipped|  1|     INR| 886.0|      BENGALURU|    KARNATAKA|        560017.0|          IN|false|\n",
      "|   20|405-0607769-0716360|04-30-22|Shipped|    Amazon|     Amazon.in|         Expedited| JNE3795|  JNE3795-KR-XXXL|        kurta| 3XL|B09HMXJVFS|       Shipped|  1|     INR| 517.0|TIRUCHIRAPPALLI|   TAMIL NADU|        620018.0|          IN|false|\n",
      "|   21|404-8494550-5860325|04-30-22|Shipped|    Amazon|     Amazon.in|         Expedited|  SET345|   SET345-KR-NP-M|          Set|   M|B09KXV4BN8|       Shipped|  1|     INR| 666.0|      BENGALURU|    KARNATAKA|        560040.0|          IN|false|\n",
      "|   22|171-1305077-2813934|04-30-22|Shipped|    Amazon|     Amazon.in|         Expedited| JNE3373|     JNE3373-KR-L|        kurta|   L|B082W7GVH7|       Shipped|  1|     INR| 376.0|      HYDERABAD|    TELANGANA|        500072.0|          IN|false|\n",
      "|   24|402-3384087-4005164|04-30-22|Shipped|    Amazon|     Amazon.in|         Expedited| MEN5002|     MEN5002-KR-L|        kurta|   L|B08YYYDN9R|       Shipped|  1|     INR| 499.0|         TEZPUR|        ASSAM|        784001.0|          IN|false|\n",
      "|   27|408-3484251-6901959|04-30-22|Shipped|    Amazon|     Amazon.in|         Expedited|PJNE2199|PJNE2199-KR-N-4XL|        kurta| 4XL|B09LD2W9XL|       Shipped|  1|     INR| 459.0|           PUNE|  MAHARASHTRA|        411052.0|          IN|false|\n",
      "|   28|405-7755803-4729935|04-30-22|Shipped|    Amazon|     Amazon.in|         Expedited| JNE3567|     JNE3567-KR-M|        kurta|   M|B08KRXV1QR|       Shipped|  1|     INR| 399.0|      BENGALURU|    KARNATAKA|        560037.0|          IN|false|\n",
      "|   30|171-9040274-9291563|04-30-22|Shipped|    Amazon|     Amazon.in|         Expedited|   J0341|       J0341-DR-S|Western Dress|   S|B099NR7612|       Shipped|  1|     INR| 791.0|     THIRUVARUR|   TAMIL NADU|        613704.0|          IN|false|\n",
      "|   31|403-7056319-0979561|04-30-22|Shipped|    Amazon|     Amazon.in|         Expedited| MEN5009|    MEN5009-KR-XL|        kurta|  XL|B08YYTCPYX|       Shipped|  1|     INR| 499.0|        LUCKNOW|UTTAR PRADESH|        226010.0|          IN|false|\n",
      "|   34|404-7774085-3780319|04-30-22|Shipped|    Amazon|     Amazon.in|         Expedited| JNE3373|    JNE3373-KR-XL|        kurta|  XL|B082W8BXW1|       Shipped|  1|     INR| 376.0|      HYDERABAD|    TELANGANA|        500028.0|          IN|false|\n",
      "+-----+-------------------+--------+-------+----------+--------------+------------------+--------+-----------------+-------------+----+----------+--------------+---+--------+------+---------------+-------------+----------------+------------+-----+\n",
      "only showing top 20 rows\n",
      "\n"
     ]
    }
   ],
   "source": [
    "df_clean = (\n",
    "    df\n",
    "    .filter((col(\"Status\").contains(\"Shipped\")) & (col(\"Fulfilment\")==\"Amazon\") & (col(\"Sales Channel \")==\"Amazon.in\"))           \n",
    "            )\n",
    "df_clean=df_clean.drop(\"fulfilled-by\", \"Unnamed: 22\", \" Sales Channel \", \"promotion-ids\")\n",
    "df_clean= df_clean.dropna(subset=[\"Order ID\", \"Date\", \"Status\", \"Fulfilment\", \"Sales Channel \", \"Qty\", \"Amount\"])\n",
    "df_clean.show()"
   ]
  },
  {
   "cell_type": "code",
   "execution_count": 9,
   "id": "9d87206e",
   "metadata": {},
   "outputs": [],
   "source": [
    "df_category=df.groupBy(\"Category\").agg(\n",
    "    avg(\"Amount\").alias(\"avg_amount\"),\n",
    "    sum(\"Amount\").alias(\"total_amount\")\n",
    ").orderBy(\"avg_amount\", ascending=False)\n"
   ]
  },
  {
   "cell_type": "code",
   "execution_count": 10,
   "id": "caa4f99c",
   "metadata": {},
   "outputs": [
    {
     "data": {
      "text/html": [
       "<div>\n",
       "<style scoped>\n",
       "    .dataframe tbody tr th:only-of-type {\n",
       "        vertical-align: middle;\n",
       "    }\n",
       "\n",
       "    .dataframe tbody tr th {\n",
       "        vertical-align: top;\n",
       "    }\n",
       "\n",
       "    .dataframe thead th {\n",
       "        text-align: right;\n",
       "    }\n",
       "</style>\n",
       "<table border=\"1\" class=\"dataframe\">\n",
       "  <thead>\n",
       "    <tr style=\"text-align: right;\">\n",
       "      <th></th>\n",
       "      <th>avg_amount</th>\n",
       "      <th>total_amount</th>\n",
       "    </tr>\n",
       "    <tr>\n",
       "      <th>Category</th>\n",
       "      <th></th>\n",
       "      <th></th>\n",
       "    </tr>\n",
       "  </thead>\n",
       "  <tbody>\n",
       "    <tr>\n",
       "      <th>Set</th>\n",
       "      <td>833.385571</td>\n",
       "      <td>39204124.03</td>\n",
       "    </tr>\n",
       "    <tr>\n",
       "      <th>Saree</th>\n",
       "      <td>799.572645</td>\n",
       "      <td>123933.76</td>\n",
       "    </tr>\n",
       "    <tr>\n",
       "      <th>Western Dress</th>\n",
       "      <td>762.790580</td>\n",
       "      <td>11216072.69</td>\n",
       "    </tr>\n",
       "    <tr>\n",
       "      <th>Ethnic Dress</th>\n",
       "      <td>723.895389</td>\n",
       "      <td>791217.66</td>\n",
       "    </tr>\n",
       "    <tr>\n",
       "      <th>Top</th>\n",
       "      <td>526.098603</td>\n",
       "      <td>5347792.30</td>\n",
       "    </tr>\n",
       "    <tr>\n",
       "      <th>Blouse</th>\n",
       "      <td>520.327106</td>\n",
       "      <td>458408.18</td>\n",
       "    </tr>\n",
       "    <tr>\n",
       "      <th>kurta</th>\n",
       "      <td>455.927108</td>\n",
       "      <td>21299546.70</td>\n",
       "    </tr>\n",
       "    <tr>\n",
       "      <th>Bottom</th>\n",
       "      <td>358.733286</td>\n",
       "      <td>150667.98</td>\n",
       "    </tr>\n",
       "    <tr>\n",
       "      <th>Dupatta</th>\n",
       "      <td>305.000000</td>\n",
       "      <td>915.00</td>\n",
       "    </tr>\n",
       "  </tbody>\n",
       "</table>\n",
       "</div>"
      ],
      "text/plain": [
       "               avg_amount  total_amount\n",
       "Category                               \n",
       "Set            833.385571   39204124.03\n",
       "Saree          799.572645     123933.76\n",
       "Western Dress  762.790580   11216072.69\n",
       "Ethnic Dress   723.895389     791217.66\n",
       "Top            526.098603    5347792.30\n",
       "Blouse         520.327106     458408.18\n",
       "kurta          455.927108   21299546.70\n",
       "Bottom         358.733286     150667.98\n",
       "Dupatta        305.000000        915.00"
      ]
     },
     "execution_count": 10,
     "metadata": {},
     "output_type": "execute_result"
    }
   ],
   "source": [
    "df_category = df_category.toPandas()\n",
    "df_category.set_index(\"Category\")"
   ]
  },
  {
   "cell_type": "code",
   "execution_count": 11,
   "id": "79c335b6",
   "metadata": {},
   "outputs": [
    {
     "data": {
      "image/png": "[encoded data removed]",
      "text/plain": [
       "<Figure size 1200x600 with 1 Axes>"
      ]
     },
     "metadata": {},
     "output_type": "display_data"
    }
   ],
   "source": [
    "df_category_sorted = df_category.sort_values(\"total_amount\", ascending=False)\n",
    "\n",
    "plt.figure(figsize=(12, 6))\n",
    "sns.barplot(data=df_category_sorted, x=\"Category\", y=\"total_amount\")\n",
    "\n",
    "plt.title(\"Total amount by category\")\n",
    "plt.xlabel(\"Category\")\n",
    "plt.ylabel(\"Total amount\")\n",
    "plt.xticks(rotation=45)\n",
    "plt.tight_layout()\n",
    "plt.show()"
   ]
  },
  {
   "cell_type": "code",
   "execution_count": null,
   "id": "3d25b5ac",
   "metadata": {},
   "outputs": [],
   "source": []
  }
 ],
 "metadata": {
  "kernelspec": {
   "display_name": "Python 3",
   "language": "python",
   "name": "python3"
  },
  "language_info": {
   "codemirror_mode": {
    "name": "ipython",
    "version": 3
   },
   "file_extension": ".py",
   "mimetype": "text/x-python",
   "name": "python",
   "nbconvert_exporter": "python",
   "pygments_lexer": "ipython3",
   "version": "3.10.0"
  }
 },
 "nbformat": 4,
 "nbformat_minor": 5
}

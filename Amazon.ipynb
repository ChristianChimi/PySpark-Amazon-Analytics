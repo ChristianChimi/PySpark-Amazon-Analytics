{
 "cells": [
  {
   "cell_type": "code",
   "execution_count": 36,
   "id": "db1eaff6",
   "metadata": {},
   "outputs": [],
   "source": [
    "from pyspark.sql import SparkSession\n",
    "from pyspark.sql.functions import col,avg, sum, to_date, month, count\n",
    "import seaborn as sns\n",
    "import tensorflow as tf\n",
    "from sklearn.preprocessing import MinMaxScaler, LabelEncoder\n",
    "import matplotlib.pyplot as plt\n",
    "from sklearn.model_selection import train_test_split\n",
    "import tensorflow as tf\n",
    "\n",
    "# Create a spark Session\n",
    "spark = SparkSession.builder \\\n",
    "    .appName(\"Amazon\") \\\n",
    "    .getOrCreate()\n",
    "\n",
    "csv_file_path = r\"Dataset\\Amazon.csv\"\n",
    "df = spark.read.csv(csv_file_path, header=\"true\", inferSchema=True)\n"
   ]
  },
  {
   "cell_type": "code",
   "execution_count": 37,
   "id": "5d42bd30",
   "metadata": {},
   "outputs": [],
   "source": [
    "df_clean = (\n",
    "    df\n",
    "    .filter(\n",
    "        ((col(\"Status\") == \"Shipped\") | (col(\"Status\") == \"Cancelled\")) & \n",
    "        (col(\"Fulfilment\") == \"Amazon\") & \n",
    "        (col(\"Sales Channel \") == \"Amazon.in\")\n",
    "    )\n",
    ")\n",
    "\n",
    "df_clean = df_clean.withColumn(\"parsed_date\", to_date(\"Date\", \"MM-dd-yy\"))\n",
    "df_clean = df_clean.withColumn(\"month\", month(\"parsed_date\"))\n",
    "df_clean=df_clean.drop(\"fulfilled-by\", \"Unnamed: 22\", \" Sales Channel \", \"promotion-ids\", \"Date\")\n",
    "df_clean= df_clean.dropna(subset=[\"Order ID\", \"Status\", \"Fulfilment\", \"Sales Channel \", \"Qty\", \"Amount\"])"
   ]
  },
  {
   "cell_type": "code",
   "execution_count": 38,
   "id": "71c8cf51",
   "metadata": {},
   "outputs": [
    {
     "name": "stdout",
     "output_type": "stream",
     "text": [
      "+-----+-------------------+-------+----------+--------------+------------------+--------+-----------------+-------------+----+----------+--------------+---+--------+------+---------------+-------------+----------------+------------+-----+-----------+-----+\n",
      "|index|           Order ID| Status|Fulfilment|Sales Channel |ship-service-level|   Style|              SKU|     Category|Size|      ASIN|Courier Status|Qty|currency|Amount|      ship-city|   ship-state|ship-postal-code|ship-country|  B2B|parsed_date|month|\n",
      "+-----+-------------------+-------+----------+--------------+------------------+--------+-----------------+-------------+----+----------+--------------+---+--------+------+---------------+-------------+----------------+------------+-----+-----------+-----+\n",
      "|    2|404-0687676-7273146|Shipped|    Amazon|     Amazon.in|         Expedited| JNE3371|    JNE3371-KR-XL|        kurta|  XL|B07WV4JV4D|       Shipped|  1|     INR| 329.0|    NAVI MUMBAI|  MAHARASHTRA|        410210.0|          IN| true| 2022-04-30|    4|\n",
      "|    4|407-1069790-7240320|Shipped|    Amazon|     Amazon.in|         Expedited| JNE3671|  JNE3671-TU-XXXL|          Top| 3XL|B098714BZP|       Shipped|  1|     INR| 574.0|        CHENNAI|   TAMIL NADU|        600073.0|          IN|false| 2022-04-30|    4|\n",
      "|    5|404-1490984-4578765|Shipped|    Amazon|     Amazon.in|         Expedited|  SET264|  SET264-KR-NP-XL|          Set|  XL|B08YN7XDSG|       Shipped|  1|     INR| 824.0|      GHAZIABAD|UTTAR PRADESH|        201102.0|          IN|false| 2022-04-30|    4|\n",
      "|    6|408-5748499-6859555|Shipped|    Amazon|     Amazon.in|         Expedited|   J0095|      J0095-SET-L|          Set|   L|B08CMHNWBN|       Shipped|  1|     INR| 653.0|     CHANDIGARH|   CHANDIGARH|        160036.0|          IN|false| 2022-04-30|    4|\n",
      "|    9|402-4393761-0311520|Shipped|    Amazon|     Amazon.in|         Expedited| JNE3461|   JNE3461-KR-XXL|        kurta| XXL|B08B3XF5MH|       Shipped|  1|     INR| 363.0|        Chennai|   TAMIL NADU|        600041.0|          IN|false| 2022-04-30|    4|\n",
      "|   10|407-5633625-6970741|Shipped|    Amazon|     Amazon.in|         Expedited| JNE3160|   JNE3160-KR-G-S|        kurta|   S|B07K3YQLF1|       Shipped|  1|     INR| 685.0|        CHENNAI|   TAMIL NADU|        600073.0|          IN|false| 2022-04-30|    4|\n",
      "|   11|171-4638481-6326716|Shipped|    Amazon|     Amazon.in|         Expedited| JNE3500|    JNE3500-KR-XS|        kurta|  XS|B098117DJ3|       Shipped|  1|     INR| 364.0|          NOIDA|UTTAR PRADESH|        201303.0|          IN|false| 2022-04-30|    4|\n",
      "|   13|408-7955685-3083534|Shipped|    Amazon|     Amazon.in|         Expedited|  SET182|  SET182-KR-DH-XS|          Set|  XS|B085HS947T|       Shipped|  1|     INR| 657.0|         MUMBAI|  MAHARASHTRA|        400053.0|          IN|false| 2022-04-30|    4|\n",
      "|   16|406-9379318-6555504|Shipped|    Amazon|     Amazon.in|         Expedited| JNE3721|   JNE3721-KR-XXL|        kurta| XXL|B099FCT65D|       Shipped|  1|     INR| 329.0|         JAIPUR|    RAJASTHAN|        302020.0|          IN|false| 2022-04-30|    4|\n",
      "|   17|405-9013803-8009918|Shipped|    Amazon|     Amazon.in|         Expedited| JNE3405|    JNE3405-KR-XL|        kurta|  XL|B081WT6GG7|       Shipped|  1|     INR| 399.0|      NEW DELHI|        DELHI|        110074.0|          IN|false| 2022-04-30|    4|\n",
      "|   19|405-5957858-1051546|Shipped|    Amazon|     Amazon.in|         Expedited|  SET254|  SET254-KR-NP-XS|          Set|  XS|B0983DDPL6|       Shipped|  1|     INR| 886.0|      BENGALURU|    KARNATAKA|        560017.0|          IN|false| 2022-04-30|    4|\n",
      "|   20|405-0607769-0716360|Shipped|    Amazon|     Amazon.in|         Expedited| JNE3795|  JNE3795-KR-XXXL|        kurta| 3XL|B09HMXJVFS|       Shipped|  1|     INR| 517.0|TIRUCHIRAPPALLI|   TAMIL NADU|        620018.0|          IN|false| 2022-04-30|    4|\n",
      "|   21|404-8494550-5860325|Shipped|    Amazon|     Amazon.in|         Expedited|  SET345|   SET345-KR-NP-M|          Set|   M|B09KXV4BN8|       Shipped|  1|     INR| 666.0|      BENGALURU|    KARNATAKA|        560040.0|          IN|false| 2022-04-30|    4|\n",
      "|   22|171-1305077-2813934|Shipped|    Amazon|     Amazon.in|         Expedited| JNE3373|     JNE3373-KR-L|        kurta|   L|B082W7GVH7|       Shipped|  1|     INR| 376.0|      HYDERABAD|    TELANGANA|        500072.0|          IN|false| 2022-04-30|    4|\n",
      "|   24|402-3384087-4005164|Shipped|    Amazon|     Amazon.in|         Expedited| MEN5002|     MEN5002-KR-L|        kurta|   L|B08YYYDN9R|       Shipped|  1|     INR| 499.0|         TEZPUR|        ASSAM|        784001.0|          IN|false| 2022-04-30|    4|\n",
      "|   27|408-3484251-6901959|Shipped|    Amazon|     Amazon.in|         Expedited|PJNE2199|PJNE2199-KR-N-4XL|        kurta| 4XL|B09LD2W9XL|       Shipped|  1|     INR| 459.0|           PUNE|  MAHARASHTRA|        411052.0|          IN|false| 2022-04-30|    4|\n",
      "|   28|405-7755803-4729935|Shipped|    Amazon|     Amazon.in|         Expedited| JNE3567|     JNE3567-KR-M|        kurta|   M|B08KRXV1QR|       Shipped|  1|     INR| 399.0|      BENGALURU|    KARNATAKA|        560037.0|          IN|false| 2022-04-30|    4|\n",
      "|   30|171-9040274-9291563|Shipped|    Amazon|     Amazon.in|         Expedited|   J0341|       J0341-DR-S|Western Dress|   S|B099NR7612|       Shipped|  1|     INR| 791.0|     THIRUVARUR|   TAMIL NADU|        613704.0|          IN|false| 2022-04-30|    4|\n",
      "|   31|403-7056319-0979561|Shipped|    Amazon|     Amazon.in|         Expedited| MEN5009|    MEN5009-KR-XL|        kurta|  XL|B08YYTCPYX|       Shipped|  1|     INR| 499.0|        LUCKNOW|UTTAR PRADESH|        226010.0|          IN|false| 2022-04-30|    4|\n",
      "|   34|404-7774085-3780319|Shipped|    Amazon|     Amazon.in|         Expedited| JNE3373|    JNE3373-KR-XL|        kurta|  XL|B082W8BXW1|       Shipped|  1|     INR| 376.0|      HYDERABAD|    TELANGANA|        500028.0|          IN|false| 2022-04-30|    4|\n",
      "+-----+-------------------+-------+----------+--------------+------------------+--------+-----------------+-------------+----+----------+--------------+---+--------+------+---------------+-------------+----------------+------------+-----+-----------+-----+\n",
      "only showing top 20 rows\n",
      "\n"
     ]
    }
   ],
   "source": [
    "df_clean.show()"
   ]
  },
  {
   "cell_type": "code",
   "execution_count": 39,
   "id": "9d87206e",
   "metadata": {},
   "outputs": [],
   "source": [
    "df_category=df_clean.groupBy(\"Category\").agg(\n",
    "    avg(\"Amount\").alias(\"avg_amount\"),\n",
    "    sum(\"Amount\").alias(\"total_amount\")\n",
    ").orderBy(\"avg_amount\", ascending=False)\n",
    "df_category = df_category.toPandas()\n",
    "df_category.set_index(\"Category\")\n",
    "\n",
    "scaler=MinMaxScaler()\n",
    "df_category[\"Standardized_Amount\"]=scaler.fit_transform(df_category[[\"total_amount\"]])"
   ]
  },
  {
   "cell_type": "code",
   "execution_count": 40,
   "id": "79c335b6",
   "metadata": {},
   "outputs": [
    {
     "data": {
      "image/png": "[encoded data removed]",
      "text/plain": [
       "<Figure size 900x400 with 1 Axes>"
      ]
     },
     "metadata": {},
     "output_type": "display_data"
    }
   ],
   "source": [
    "df_category_sorted = df_category.sort_values(\"total_amount\", ascending=False)\n",
    "\n",
    "plt.figure(figsize=(9, 4))\n",
    "sns.barplot(data=df_category_sorted, x=\"Category\", y=\"Standardized_Amount\", width=0.4)\n",
    "\n",
    "plt.title(\"Standardized amount by category\")\n",
    "plt.xlabel(\"Category\")\n",
    "plt.ylabel(\"Standardized amount\")\n",
    "plt.xticks(rotation=45)\n",
    "plt.tight_layout()\n",
    "plt.show()"
   ]
  },
  {
   "cell_type": "code",
   "execution_count": 41,
   "id": "cf6aa8a7",
   "metadata": {},
   "outputs": [
    {
     "data": {
      "text/html": [
       "<div>\n",
       "<style scoped>\n",
       "    .dataframe tbody tr th:only-of-type {\n",
       "        vertical-align: middle;\n",
       "    }\n",
       "\n",
       "    .dataframe tbody tr th {\n",
       "        vertical-align: top;\n",
       "    }\n",
       "\n",
       "    .dataframe thead th {\n",
       "        text-align: right;\n",
       "    }\n",
       "</style>\n",
       "<table border=\"1\" class=\"dataframe\">\n",
       "  <thead>\n",
       "    <tr style=\"text-align: right;\">\n",
       "      <th></th>\n",
       "      <th>orders</th>\n",
       "      <th>total_amount</th>\n",
       "    </tr>\n",
       "    <tr>\n",
       "      <th>month</th>\n",
       "      <th></th>\n",
       "      <th></th>\n",
       "    </tr>\n",
       "  </thead>\n",
       "  <tbody>\n",
       "    <tr>\n",
       "      <th>4</th>\n",
       "      <td>30956</td>\n",
       "      <td>19558837.0</td>\n",
       "    </tr>\n",
       "    <tr>\n",
       "      <th>5</th>\n",
       "      <td>26692</td>\n",
       "      <td>17695951.0</td>\n",
       "    </tr>\n",
       "    <tr>\n",
       "      <th>6</th>\n",
       "      <td>25439</td>\n",
       "      <td>16711115.0</td>\n",
       "    </tr>\n",
       "    <tr>\n",
       "      <th>3</th>\n",
       "      <td>139</td>\n",
       "      <td>87464.0</td>\n",
       "    </tr>\n",
       "  </tbody>\n",
       "</table>\n",
       "</div>"
      ],
      "text/plain": [
       "       orders  total_amount\n",
       "month                      \n",
       "4       30956    19558837.0\n",
       "5       26692    17695951.0\n",
       "6       25439    16711115.0\n",
       "3         139       87464.0"
      ]
     },
     "execution_count": 41,
     "metadata": {},
     "output_type": "execute_result"
    }
   ],
   "source": [
    "df_month=df_clean.groupBy(\"month\").agg(\n",
    "    count(\"Order ID\").alias(\"orders\"),\n",
    "    sum(\"Amount\").alias(\"total_amount\")\n",
    ").orderBy(\"orders\", ascending=False)\n",
    "df_month = df_month.toPandas()\n",
    "df_month.set_index(\"month\")"
   ]
  },
  {
   "cell_type": "code",
   "execution_count": 42,
   "id": "4c559adc",
   "metadata": {},
   "outputs": [
    {
     "data": {
      "image/png": "[encoded data removed]",
      "text/plain": [
       "<Figure size 900x400 with 1 Axes>"
      ]
     },
     "metadata": {},
     "output_type": "display_data"
    }
   ],
   "source": [
    "plt.figure(figsize=(9, 4))\n",
    "sns.barplot(data=df_month, x=\"month\", y=\"orders\", width=0.3)\n",
    "\n",
    "plt.title(\"Total orders by month\")\n",
    "plt.xlabel(\"Month\")\n",
    "plt.ylabel(\"Total orders\")\n",
    "plt.tight_layout()\n",
    "plt.show()"
   ]
  },
  {
   "cell_type": "markdown",
   "id": "6d8174d9",
   "metadata": {},
   "source": [
    "##### TensorFlow deeplearning. Based on city-ship and amount, predict if the order will be cancelled."
   ]
  },
  {
   "cell_type": "code",
   "execution_count": 43,
   "id": "c5876c5a",
   "metadata": {},
   "outputs": [],
   "source": [
    "#We'll focus on category \"Top\", so we filter the pyspark and create a pandas df.\n",
    "\n",
    "Top_df = df_clean.filter(df_clean[\"Category\"] == \"Top\")\n",
    "Top_df_pandas = Top_df.toPandas()\n",
    "\n",
    "#Also, for deeplearning we need Shipped and cancelled (but also cities) to be numbers\n",
    "le = LabelEncoder()\n",
    "Top_df_pandas['ship-city'] = le.fit_transform(Top_df_pandas['ship-city'].astype(str))\n",
    "Top_df_pandas['Status'] = le.fit_transform(Top_df_pandas['Status'].astype(str))"
   ]
  },
  {
   "cell_type": "code",
   "execution_count": null,
   "id": "acb08d67",
   "metadata": {},
   "outputs": [
    {
     "name": "stdout",
     "output_type": "stream",
     "text": [
      "Epoch 1/10\n",
      "\u001b[1m614/614\u001b[0m \u001b[32m━━━━━━━━━━━━━━━━━━━━\u001b[0m\u001b[37m\u001b[0m \u001b[1m2s\u001b[0m 2ms/step - accuracy: 0.9188 - loss: 0.6267 - val_accuracy: 0.9250 - val_loss: 0.4516\n",
      "Epoch 2/10\n",
      "\u001b[1m614/614\u001b[0m \u001b[32m━━━━━━━━━━━━━━━━━━━━\u001b[0m\u001b[37m\u001b[0m \u001b[1m1s\u001b[0m 2ms/step - accuracy: 0.9289 - loss: 0.4250 - val_accuracy: 0.9250 - val_loss: 0.2683\n",
      "Epoch 3/10\n",
      "\u001b[1m614/614\u001b[0m \u001b[32m━━━━━━━━━━━━━━━━━━━━\u001b[0m\u001b[37m\u001b[0m \u001b[1m1s\u001b[0m 2ms/step - accuracy: 0.9355 - loss: 0.2916 - val_accuracy: 0.9250 - val_loss: 0.3230\n",
      "Epoch 4/10\n",
      "\u001b[1m614/614\u001b[0m \u001b[32m━━━━━━━━━━━━━━━━━━━━\u001b[0m\u001b[37m\u001b[0m \u001b[1m1s\u001b[0m 2ms/step - accuracy: 0.9269 - loss: 0.3244 - val_accuracy: 0.9242 - val_loss: 0.3155\n",
      "Epoch 5/10\n",
      "\u001b[1m614/614\u001b[0m \u001b[32m━━━━━━━━━━━━━━━━━━━━\u001b[0m\u001b[37m\u001b[0m \u001b[1m1s\u001b[0m 2ms/step - accuracy: 0.9274 - loss: 0.3345 - val_accuracy: 0.9087 - val_loss: 0.3068\n",
      "Epoch 6/10\n",
      "\u001b[1m614/614\u001b[0m \u001b[32m━━━━━━━━━━━━━━━━━━━━\u001b[0m\u001b[37m\u001b[0m \u001b[1m1s\u001b[0m 2ms/step - accuracy: 0.9326 - loss: 0.2833 - val_accuracy: 0.9226 - val_loss: 0.3472\n",
      "Epoch 7/10\n",
      "\u001b[1m614/614\u001b[0m \u001b[32m━━━━━━━━━━━━━━━━━━━━\u001b[0m\u001b[37m\u001b[0m \u001b[1m1s\u001b[0m 2ms/step - accuracy: 0.9272 - loss: 0.2869 - val_accuracy: 0.9185 - val_loss: 0.3476\n",
      "Epoch 8/10\n",
      "\u001b[1m614/614\u001b[0m \u001b[32m━━━━━━━━━━━━━━━━━━━━\u001b[0m\u001b[37m\u001b[0m \u001b[1m1s\u001b[0m 2ms/step - accuracy: 0.9292 - loss: 0.2892 - val_accuracy: 0.9242 - val_loss: 0.4988\n",
      "Epoch 9/10\n",
      "\u001b[1m614/614\u001b[0m \u001b[32m━━━━━━━━━━━━━━━━━━━━\u001b[0m\u001b[37m\u001b[0m \u001b[1m1s\u001b[0m 2ms/step - accuracy: 0.9230 - loss: 0.3179 - val_accuracy: 0.8949 - val_loss: 0.3890\n",
      "Epoch 10/10\n",
      "\u001b[1m614/614\u001b[0m \u001b[32m━━━━━━━━━━━━━━━━━━━━\u001b[0m\u001b[37m\u001b[0m \u001b[1m1s\u001b[0m 2ms/step - accuracy: 0.9310 - loss: 0.2830 - val_accuracy: 0.7408 - val_loss: 0.6014\n",
      "\u001b[1m48/48\u001b[0m \u001b[32m━━━━━━━━━━━━━━━━━━━━\u001b[0m\u001b[37m\u001b[0m \u001b[1m0s\u001b[0m 2ms/step - accuracy: 0.7675 - loss: 0.5693\n",
      "Test Accuracy: 0.77\n",
      "\u001b[1m1/1\u001b[0m \u001b[32m━━━━━━━━━━━━━━━━━━━━\u001b[0m\u001b[37m\u001b[0m \u001b[1m0s\u001b[0m 106ms/step\n",
      "\n",
      "Probabilità di 'Cancelled': 0.0028\n",
      "Classe predetta: 0 (Cancelled)\n"
     ]
    }
   ],
   "source": [
    "X = Top_df_pandas[['ship-city', 'Amount']]\n",
    "y = Top_df_pandas['Status']\n",
    "\n",
    "# Division in train and test set\n",
    "X_train, X_test, y_train, y_test = train_test_split(X, y, test_size=0.2, random_state=42)\n",
    "\n",
    "# Costruzione del modello\n",
    "city_input = tf.keras.layers.Input(shape=(1,), dtype=tf.int32, name='city_input')\n",
    "\n",
    "# Embedding layer per 'ship-city'\n",
    "city_embedding = tf.keras.layers.Embedding(input_dim=X['ship-city'].nunique(), output_dim=8)(city_input)\n",
    "city_embedding_flat = tf.keras.layers.Flatten()(city_embedding)\n",
    "\n",
    "# Input 'Amount'\n",
    "amount_input = tf.keras.layers.Input(shape=(1,), dtype=tf.float32, name='amount_input')\n",
    "\n",
    "# Neural network\n",
    "hidden_layer = tf.keras.layers.concatenate([city_embedding_flat, amount_input])\n",
    "hidden_layer = tf.keras.layers.Dense(64, activation='relu')(hidden_layer)\n",
    "output_layer = tf.keras.layers.Dense(1, activation='sigmoid')(hidden_layer)\n",
    "\n",
    "# Model\n",
    "model = tf.keras.Model(inputs=[city_input, amount_input], outputs=output_layer)\n",
    "model.compile(optimizer='adam', loss='binary_crossentropy', metrics=['accuracy'])\n",
    "\n",
    "# Training\n",
    "history = model.fit(\n",
    "    [X_train['ship-city'], X_train['Amount']], \n",
    "    y_train, \n",
    "    epochs=10, \n",
    "    validation_split=0.2, \n",
    "    batch_size=8 \n",
    ")\n",
    "\n",
    "# Evaluation\n",
    "loss, accuracy = model.evaluate([X_test['ship-city'], X_test['Amount']], y_test)\n",
    "print(f\"Test Accuracy: {accuracy:.2f}\")\n",
    "\n",
    "# Esempio: inserisci manualmente i valori\n",
    "input_city = int(input(\"Insert ship-city: \"))\n",
    "input_amount = float(input(\"Insert Amount: \"))\n",
    "\n",
    "city_array = tf.convert_to_tensor([[input_city]])\n",
    "amount_array = tf.convert_to_tensor([[input_amount]])\n",
    "\n",
    "# Prediction\n",
    "prediction = model.predict([city_array, amount_array])\n",
    "predicted_class = int(prediction[0][0] > 0.5)\n",
    "\n",
    "# Output\n",
    "print(f\"\\nProbability of 'Cancelled': {prediction[0][0]:.4f}\")\n",
    "print(f\"Predicted class: {predicted_class} ({'Cancelled' if predicted_class == 0 else 'Shipped'})\")\n",
    "\n"
   ]
  }
 ],
 "metadata": {
  "kernelspec": {
   "display_name": "Python 3",
   "language": "python",
   "name": "python3"
  },
  "language_info": {
   "codemirror_mode": {
    "name": "ipython",
    "version": 3
   },
   "file_extension": ".py",
   "mimetype": "text/x-python",
   "name": "python",
   "nbconvert_exporter": "python",
   "pygments_lexer": "ipython3",
   "version": "3.10.0"
  }
 },
 "nbformat": 4,
 "nbformat_minor": 5
}
